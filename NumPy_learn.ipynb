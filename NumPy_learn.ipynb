{
  "nbformat": 4,
  "nbformat_minor": 0,
  "metadata": {
    "colab": {
      "provenance": []
    },
    "kernelspec": {
      "name": "python3",
      "display_name": "Python 3"
    },
    "language_info": {
      "name": "python"
    }
  },
  "cells": [
    {
      "cell_type": "code",
      "execution_count": 1,
      "metadata": {
        "id": "Utzk-oTOd04E"
      },
      "outputs": [],
      "source": [
        "import numpy as np"
      ]
    },
    {
      "cell_type": "markdown",
      "source": [
        "numpy is written in c++ and everything in thr backend is happening in c++ only"
      ],
      "metadata": {
        "id": "pZxyeWuGgmxe"
      }
    },
    {
      "cell_type": "code",
      "source": [
        "arr_1d = np.array([1,2,3])\n",
        "print(arr_1d)"
      ],
      "metadata": {
        "colab": {
          "base_uri": "https://localhost:8080/"
        },
        "id": "MJVdgui-gwEL",
        "outputId": "28458e7c-c93a-43a1-aa34-28b9a9146972"
      },
      "execution_count": 2,
      "outputs": [
        {
          "output_type": "stream",
          "name": "stdout",
          "text": [
            "[1 2 3]\n"
          ]
        }
      ]
    },
    {
      "cell_type": "code",
      "source": [
        "arr_2d = np.array(\n",
        "    [\n",
        "        [1,2,3], [4,5,6]\n",
        "    ]\n",
        ")\n",
        "\n",
        "print(arr_2d)"
      ],
      "metadata": {
        "colab": {
          "base_uri": "https://localhost:8080/"
        },
        "id": "936jOg8Zh2WT",
        "outputId": "91e29328-b80b-4490-8ff6-980d4c5a71f6"
      },
      "execution_count": 3,
      "outputs": [
        {
          "output_type": "stream",
          "name": "stdout",
          "text": [
            "[[1 2 3]\n",
            " [4 5 6]]\n"
          ]
        }
      ]
    },
    {
      "cell_type": "markdown",
      "source": [
        "array vs list"
      ],
      "metadata": {
        "id": "vnsgTfxXjelx"
      }
    },
    {
      "cell_type": "code",
      "source": [
        "my_list = [1,2,3]\n",
        "print(my_list * 2)"
      ],
      "metadata": {
        "colab": {
          "base_uri": "https://localhost:8080/"
        },
        "id": "HHcuJjybifER",
        "outputId": "c1b398c8-0667-4c60-e09f-56d6bf54d1b5"
      },
      "execution_count": 4,
      "outputs": [
        {
          "output_type": "stream",
          "name": "stdout",
          "text": [
            "[1, 2, 3, 1, 2, 3]\n"
          ]
        }
      ]
    },
    {
      "cell_type": "code",
      "source": [
        "np_array = np.array([1,2,3])\n",
        "print(np_array * 2)"
      ],
      "metadata": {
        "colab": {
          "base_uri": "https://localhost:8080/"
        },
        "id": "4rFzsCRVjVjl",
        "outputId": "c34ea0e8-9b86-49d5-9b4d-eeb20688a37c"
      },
      "execution_count": 5,
      "outputs": [
        {
          "output_type": "stream",
          "name": "stdout",
          "text": [
            "[2 4 6]\n"
          ]
        }
      ]
    },
    {
      "cell_type": "code",
      "source": [
        "import time"
      ],
      "metadata": {
        "id": "j7NfO8KzjdQn"
      },
      "execution_count": 6,
      "outputs": []
    },
    {
      "cell_type": "code",
      "source": [
        "start = time.time()\n",
        "py_list = [i*2 for i in range(10000)]\n",
        "print(\"\\n list operation time : \", time.time() - start)\n",
        "\n",
        "start = time.time()\n",
        "np_array = np.arange(10000)\n",
        "print(\"\\n array operation time : \", time.time() - start)"
      ],
      "metadata": {
        "colab": {
          "base_uri": "https://localhost:8080/"
        },
        "id": "rvpFSMV1kHAE",
        "outputId": "4d717775-5dd7-4fd3-aad5-c4c642127ca7"
      },
      "execution_count": 7,
      "outputs": [
        {
          "output_type": "stream",
          "name": "stdout",
          "text": [
            "\n",
            " list operation time :  0.0008225440979003906\n",
            "\n",
            " array operation time :  0.0004355907440185547\n"
          ]
        }
      ]
    },
    {
      "cell_type": "markdown",
      "source": [
        "hence array is more efficient than the list"
      ],
      "metadata": {
        "id": "5nCy39pJk330"
      }
    },
    {
      "cell_type": "markdown",
      "source": [
        "creating arrays from scratch"
      ],
      "metadata": {
        "id": "rNc-F75ulSWH"
      }
    },
    {
      "cell_type": "code",
      "source": [
        "zeros = np.zeros([5,5])\n",
        "print(zeros)"
      ],
      "metadata": {
        "colab": {
          "base_uri": "https://localhost:8080/"
        },
        "id": "ZBIcAYMKk1J9",
        "outputId": "5028e1e3-78f5-4ae1-aa3c-06da660b7f65"
      },
      "execution_count": 8,
      "outputs": [
        {
          "output_type": "stream",
          "name": "stdout",
          "text": [
            "[[0. 0. 0. 0. 0.]\n",
            " [0. 0. 0. 0. 0.]\n",
            " [0. 0. 0. 0. 0.]\n",
            " [0. 0. 0. 0. 0.]\n",
            " [0. 0. 0. 0. 0.]]\n"
          ]
        }
      ]
    },
    {
      "cell_type": "markdown",
      "source": [
        "a 5x5 matrix is created of zeros"
      ],
      "metadata": {
        "id": "Wk0knv4BleTo"
      }
    },
    {
      "cell_type": "code",
      "source": [
        "ones = np.ones([5,5])\n",
        "print(ones)"
      ],
      "metadata": {
        "colab": {
          "base_uri": "https://localhost:8080/"
        },
        "id": "_aJiPGa8ldiQ",
        "outputId": "9e59189b-f63e-4bb3-a2fd-bf7ac0bcd095"
      },
      "execution_count": 9,
      "outputs": [
        {
          "output_type": "stream",
          "name": "stdout",
          "text": [
            "[[1. 1. 1. 1. 1.]\n",
            " [1. 1. 1. 1. 1.]\n",
            " [1. 1. 1. 1. 1.]\n",
            " [1. 1. 1. 1. 1.]\n",
            " [1. 1. 1. 1. 1.]]\n"
          ]
        }
      ]
    },
    {
      "cell_type": "markdown",
      "source": [
        "a 5x5 matrix of ones is created"
      ],
      "metadata": {
        "id": "MqawB-7Klspp"
      }
    },
    {
      "cell_type": "code",
      "source": [
        "full = np.full((2,2),5)\n",
        "print(full)"
      ],
      "metadata": {
        "colab": {
          "base_uri": "https://localhost:8080/"
        },
        "id": "POrCKrJPlYsQ",
        "outputId": "1398fcda-a31f-4d7c-f2d3-c5dc5f651a82"
      },
      "execution_count": 10,
      "outputs": [
        {
          "output_type": "stream",
          "name": "stdout",
          "text": [
            "[[5 5]\n",
            " [5 5]]\n"
          ]
        }
      ]
    },
    {
      "cell_type": "markdown",
      "source": [
        "creating a matrix filled with any number"
      ],
      "metadata": {
        "id": "W7lIX-p0mFv-"
      }
    },
    {
      "cell_type": "code",
      "source": [
        "random_matrix = np.random.random((5,5))\n",
        "print(random_matrix)"
      ],
      "metadata": {
        "colab": {
          "base_uri": "https://localhost:8080/"
        },
        "id": "EOmgUKDMmDJo",
        "outputId": "2f39c76d-0b6f-4d7f-ae40-ba942caffbd0"
      },
      "execution_count": 11,
      "outputs": [
        {
          "output_type": "stream",
          "name": "stdout",
          "text": [
            "[[0.45194874 0.04435682 0.772096   0.02833087 0.94475877]\n",
            " [0.48345826 0.80453938 0.41868943 0.04433964 0.99563611]\n",
            " [0.35124155 0.51067014 0.43313977 0.31015422 0.08206474]\n",
            " [0.99371517 0.52427738 0.73160671 0.42124371 0.31363502]\n",
            " [0.66481485 0.75851644 0.97226366 0.92008906 0.6690612 ]]\n"
          ]
        }
      ]
    },
    {
      "cell_type": "markdown",
      "source": [
        "a random matrix of 5x5 is created"
      ],
      "metadata": {
        "id": "NJhOqX-3ml9y"
      }
    },
    {
      "cell_type": "code",
      "source": [
        "np_sequence = np.arange(0,10,2)\n",
        "print(np_sequence)"
      ],
      "metadata": {
        "colab": {
          "base_uri": "https://localhost:8080/"
        },
        "id": "yYXE2tgYmblj",
        "outputId": "7d929e9b-00e2-424d-ea45-21b91fd6c5fa"
      },
      "execution_count": 12,
      "outputs": [
        {
          "output_type": "stream",
          "name": "stdout",
          "text": [
            "[0 2 4 6 8]\n"
          ]
        }
      ]
    },
    {
      "cell_type": "markdown",
      "source": [
        "Vector, Matrix, Tensor"
      ],
      "metadata": {
        "id": "wo5PgOPFnnKc"
      }
    },
    {
      "cell_type": "code",
      "source": [
        "vector = np.array([1,2,3])\n",
        "matrix = np.array([[1,2],[2,3],[3,4]])\n",
        "tensor = np.array([[[1,2], [2,3], [3,4]]])\n",
        "\n",
        "print(\"Vector: \", vector)\n",
        "print(\"Matrix :\", matrix)\n",
        "print(\"Tensor :\", tensor)"
      ],
      "metadata": {
        "colab": {
          "base_uri": "https://localhost:8080/"
        },
        "id": "uysaeQyTm-SM",
        "outputId": "142afd62-ba0c-437a-f2a8-949569d1bf38"
      },
      "execution_count": 13,
      "outputs": [
        {
          "output_type": "stream",
          "name": "stdout",
          "text": [
            "Vector:  [1 2 3]\n",
            "Matrix : [[1 2]\n",
            " [2 3]\n",
            " [3 4]]\n",
            "Tensor : [[[1 2]\n",
            "  [2 3]\n",
            "  [3 4]]]\n"
          ]
        }
      ]
    },
    {
      "cell_type": "code",
      "source": [
        "arr = np.array([[1,2,3],[2,3,4],[4,5,6]])\n",
        "print(\"Shape of array \",arr.shape)\n",
        "print(\"Dimension of array \",arr.ndim)\n",
        "print(\"Data type of array \",arr.dtype)\n",
        "print(\"Size of array \",arr.size)"
      ],
      "metadata": {
        "colab": {
          "base_uri": "https://localhost:8080/"
        },
        "id": "ttHQHrRooRbk",
        "outputId": "93895bd9-dae0-42f3-a275-77169c0e2bc7"
      },
      "execution_count": 14,
      "outputs": [
        {
          "output_type": "stream",
          "name": "stdout",
          "text": [
            "Shape of array  (3, 3)\n",
            "Dimension of array  2\n",
            "Data type of array  int64\n",
            "Size of array  9\n"
          ]
        }
      ]
    },
    {
      "cell_type": "markdown",
      "source": [
        "numpy arrays are optimized as it has similar values only"
      ],
      "metadata": {
        "id": "S7NLDUc4sdUA"
      }
    },
    {
      "cell_type": "markdown",
      "source": [
        "## Array Reshaping"
      ],
      "metadata": {
        "id": "x7X6KDR1tRII"
      }
    },
    {
      "cell_type": "code",
      "source": [
        "arr = np.arange(12)\n",
        "print(\"Original array is\",arr)\n",
        "\n",
        "reshaped = arr.reshape(3,4)\n",
        "print(\"Reshaped array is : \", reshaped)\n",
        "\n",
        "flattened = arr.flatten()\n",
        "print(\"Flattened array is :\", flattened)\n",
        "\n",
        "# returns view instead of the copy i.e- the original array with changes is returned\n",
        "raveled = reshaped.ravel()\n",
        "print(raveled)"
      ],
      "metadata": {
        "colab": {
          "base_uri": "https://localhost:8080/"
        },
        "id": "-kN6R10TpHVA",
        "outputId": "c5a6eee9-64bb-4640-a46f-94e690c6b9c7"
      },
      "execution_count": 15,
      "outputs": [
        {
          "output_type": "stream",
          "name": "stdout",
          "text": [
            "Original array is [ 0  1  2  3  4  5  6  7  8  9 10 11]\n",
            "Reshaped array is :  [[ 0  1  2  3]\n",
            " [ 4  5  6  7]\n",
            " [ 8  9 10 11]]\n",
            "Flattened array is : [ 0  1  2  3  4  5  6  7  8  9 10 11]\n",
            "[ 0  1  2  3  4  5  6  7  8  9 10 11]\n"
          ]
        }
      ]
    },
    {
      "cell_type": "code",
      "source": [
        "arr = np.array([['a','b','c'],['d','e','f']])\n",
        "print(\"Original array is \\n\",arr)\n",
        "transpose =  arr.T\n",
        "print(\"The transpose of the array is \\n\",transpose)"
      ],
      "metadata": {
        "colab": {
          "base_uri": "https://localhost:8080/"
        },
        "id": "fh2eRJHCtWyB",
        "outputId": "9c98029b-8aee-4658-a153-799b8ed35274"
      },
      "execution_count": 16,
      "outputs": [
        {
          "output_type": "stream",
          "name": "stdout",
          "text": [
            "Original array is \n",
            " [['a' 'b' 'c']\n",
            " ['d' 'e' 'f']]\n",
            "The transpose of the array is \n",
            " [['a' 'd']\n",
            " ['b' 'e']\n",
            " ['c' 'f']]\n"
          ]
        }
      ]
    },
    {
      "cell_type": "markdown",
      "source": [
        "##array operations"
      ],
      "metadata": {
        "id": "l8KByWPow1OJ"
      }
    },
    {
      "cell_type": "code",
      "source": [
        "arr = np.arange(10)\n",
        "print(arr)\n",
        "print(arr[2:7])\n",
        "print(arr[0:7:2])"
      ],
      "metadata": {
        "colab": {
          "base_uri": "https://localhost:8080/"
        },
        "id": "dDrWz8r6ufZl",
        "outputId": "e814f2fa-d3a1-4e1e-88d6-521b85c00814"
      },
      "execution_count": 17,
      "outputs": [
        {
          "output_type": "stream",
          "name": "stdout",
          "text": [
            "[0 1 2 3 4 5 6 7 8 9]\n",
            "[2 3 4 5 6]\n",
            "[0 2 4 6]\n"
          ]
        }
      ]
    },
    {
      "cell_type": "markdown",
      "source": [
        "printing the specific element"
      ],
      "metadata": {
        "id": "ZeUcIJvSx6AT"
      }
    },
    {
      "cell_type": "code",
      "source": [
        "arr_2d = np.array([\n",
        "    [1,2,3],\n",
        "    [4,5,6],\n",
        "    [7,8,9]\n",
        "])\n",
        "print(\"Specific Element\")\n",
        "print(arr_2d[0,0])\n",
        "print(arr_2d[0,1])\n",
        "print(arr_2d[0,2])\n",
        "print(arr_2d[1,0])\n",
        "print(arr_2d[1,1])\n",
        "print(arr_2d[1,2])\n",
        "print(arr_2d[2,0])\n",
        "print(arr_2d[2,1])\n",
        "print(arr_2d[2,2])\n",
        "print(\"Printing Whole Rows\")\n",
        "print(arr_2d[0])\n",
        "print(arr_2d[1])\n",
        "print(arr_2d[2])\n",
        "print(\"Printing Whole Columns\")\n",
        "print(arr_2d[:,0])\n",
        "print(arr_2d[:,1])\n",
        "print(arr_2d[:,2])"
      ],
      "metadata": {
        "colab": {
          "base_uri": "https://localhost:8080/"
        },
        "id": "d4ZU6Skkwljn",
        "outputId": "0a1e795a-8afd-4e99-ebcd-279855e05d3d"
      },
      "execution_count": 18,
      "outputs": [
        {
          "output_type": "stream",
          "name": "stdout",
          "text": [
            "Specific Element\n",
            "1\n",
            "2\n",
            "3\n",
            "4\n",
            "5\n",
            "6\n",
            "7\n",
            "8\n",
            "9\n",
            "Printing Whole Rows\n",
            "[1 2 3]\n",
            "[4 5 6]\n",
            "[7 8 9]\n",
            "Printing Whole Columns\n",
            "[1 4 7]\n",
            "[2 5 8]\n",
            "[3 6 9]\n"
          ]
        }
      ]
    },
    {
      "cell_type": "markdown",
      "source": [
        "##Sorting"
      ],
      "metadata": {
        "id": "FJuBihnCzboH"
      }
    },
    {
      "cell_type": "code",
      "source": [
        "unsorted = np.array([90,20,10,70,100,40,50,30,60,80])\n",
        "print(\"Unsorted array is : \",unsorted)\n",
        "print(\"Sorted array is : \", np.sort(unsorted))"
      ],
      "metadata": {
        "colab": {
          "base_uri": "https://localhost:8080/"
        },
        "id": "XCQO2qLsyKEY",
        "outputId": "8a6037a0-3e84-4975-bf58-364eb3cb341a"
      },
      "execution_count": 19,
      "outputs": [
        {
          "output_type": "stream",
          "name": "stdout",
          "text": [
            "Unsorted array is :  [ 90  20  10  70 100  40  50  30  60  80]\n",
            "Sorted array is :  [ 10  20  30  40  50  60  70  80  90 100]\n"
          ]
        }
      ]
    },
    {
      "cell_type": "markdown",
      "source": [
        "column and row wise sorting"
      ],
      "metadata": {
        "id": "cT_-0O0q0jQX"
      }
    },
    {
      "cell_type": "code",
      "source": [
        "unsorted_2d = np.array([[3,1],[1,3],[8,9]])\n",
        "print(\"Column wise sorting : \\n\", np.sort(unsorted_2d, axis = 0))\n",
        "print(\"Row wise sorting : \\n\", np.sort(unsorted_2d, axis = 1))"
      ],
      "metadata": {
        "colab": {
          "base_uri": "https://localhost:8080/"
        },
        "id": "thXwXkQCz7h_",
        "outputId": "638c90c2-cd32-4ca8-eb7e-b86639548419"
      },
      "execution_count": 20,
      "outputs": [
        {
          "output_type": "stream",
          "name": "stdout",
          "text": [
            "Column wise sorting : \n",
            " [[1 1]\n",
            " [3 3]\n",
            " [8 9]]\n",
            "Row wise sorting : \n",
            " [[1 3]\n",
            " [1 3]\n",
            " [8 9]]\n"
          ]
        }
      ]
    },
    {
      "cell_type": "markdown",
      "source": [
        "## Filtering"
      ],
      "metadata": {
        "id": "vXBrXmer1N1q"
      }
    },
    {
      "cell_type": "code",
      "source": [
        "arr = np.array([0,1,2,3,4,5,6,7,8,9])\n",
        "even_numbers = arr[arr % 2 == 0]\n",
        "odd_numbers = arr[arr % 2 == 1]\n",
        "print(\"Filtered list of even numbers\",even_numbers)\n",
        "print(\"Filtered list of odd numbers\",odd_numbers)"
      ],
      "metadata": {
        "colab": {
          "base_uri": "https://localhost:8080/"
        },
        "id": "zm5idLVe03sz",
        "outputId": "2813a6b6-aff2-450b-d499-32a8babbb283"
      },
      "execution_count": 21,
      "outputs": [
        {
          "output_type": "stream",
          "name": "stdout",
          "text": [
            "Filtered list of even numbers [0 2 4 6 8]\n",
            "Filtered list of odd numbers [1 3 5 7 9]\n"
          ]
        }
      ]
    },
    {
      "cell_type": "markdown",
      "source": [
        "# Filter with mask"
      ],
      "metadata": {
        "id": "Y0tN8Cvm2rDz"
      }
    },
    {
      "cell_type": "code",
      "source": [
        "numbers = np.arange(10)\n",
        "mask = numbers > 5\n",
        "print(\"Numbers which are greater than 5 are : \",numbers[mask])"
      ],
      "metadata": {
        "colab": {
          "base_uri": "https://localhost:8080/"
        },
        "id": "L5Zjr_bP2Jr7",
        "outputId": "e991a02a-56e6-40be-9205-1368c7de75bc"
      },
      "execution_count": 22,
      "outputs": [
        {
          "output_type": "stream",
          "name": "stdout",
          "text": [
            "Numbers which are greater than 5 are :  [6 7 8 9]\n"
          ]
        }
      ]
    },
    {
      "cell_type": "markdown",
      "source": [
        "use of np.where()"
      ],
      "metadata": {
        "id": "7JUhLhz55Vga"
      }
    },
    {
      "cell_type": "code",
      "source": [
        "indices = [0,1,3] #traditional indexing\n",
        "print(numbers[indices])\n",
        "print(np.where(numbers>5))"
      ],
      "metadata": {
        "colab": {
          "base_uri": "https://localhost:8080/"
        },
        "id": "sHoVegIv24MK",
        "outputId": "804dca5f-bc1c-4368-9aa3-41c7694bc74c"
      },
      "execution_count": 23,
      "outputs": [
        {
          "output_type": "stream",
          "name": "stdout",
          "text": [
            "[0 1 3]\n",
            "(array([6, 7, 8, 9]),)\n"
          ]
        }
      ]
    },
    {
      "cell_type": "code",
      "source": [
        "numbers = np.array([0,1,2,3,4,5,6,7,8,9,10])\n",
        "condition_array = np.where(numbers>5, \"True\", \"False\")\n",
        "print(condition_array)"
      ],
      "metadata": {
        "colab": {
          "base_uri": "https://localhost:8080/"
        },
        "id": "8-mu6FgW5J-I",
        "outputId": "b0c81807-37df-4143-8777-2db10f936ae5"
      },
      "execution_count": 24,
      "outputs": [
        {
          "output_type": "stream",
          "name": "stdout",
          "text": [
            "['False' 'False' 'False' 'False' 'False' 'False' 'True' 'True' 'True'\n",
            " 'True' 'True']\n"
          ]
        }
      ]
    },
    {
      "cell_type": "markdown",
      "source": [
        "#Adding and Removing Data"
      ],
      "metadata": {
        "id": "EjBTrqF38l-f"
      }
    },
    {
      "cell_type": "code",
      "source": [
        "arr1 = np.array([1,2,3])\n",
        "arr2 = np.array([4,5,6])\n",
        "combined = np.concatenate((arr1, arr2))\n",
        "print(combined)"
      ],
      "metadata": {
        "colab": {
          "base_uri": "https://localhost:8080/"
        },
        "id": "W7wy_oQA8V1p",
        "outputId": "6bbc5909-ca4c-44ec-853e-61fff292e192"
      },
      "execution_count": 25,
      "outputs": [
        {
          "output_type": "stream",
          "name": "stdout",
          "text": [
            "[1 2 3 4 5 6]\n"
          ]
        }
      ]
    },
    {
      "cell_type": "markdown",
      "source": [
        "#array compatibility\n",
        "checking whether the shape of the arrays are same or not"
      ],
      "metadata": {
        "id": "mV0nGacP9jS7"
      }
    },
    {
      "cell_type": "code",
      "source": [
        "a = np.array([1,2,3])\n",
        "b = np.array([4,5,6])\n",
        "c = np.array([7,8,9,10])\n",
        "\n",
        "print(\"Compatibility is : \",np.shape(a) == np.shape(b))\n",
        "print(\"Compatibility is : \",np.shape(a) == np.shape(c))"
      ],
      "metadata": {
        "colab": {
          "base_uri": "https://localhost:8080/"
        },
        "id": "0bKmhLZ-9Ne_",
        "outputId": "c5d1e363-8fad-4438-fb1a-ff833878abb5"
      },
      "execution_count": 26,
      "outputs": [
        {
          "output_type": "stream",
          "name": "stdout",
          "text": [
            "Compatibility is :  True\n",
            "Compatibility is :  False\n"
          ]
        }
      ]
    },
    {
      "cell_type": "markdown",
      "source": [
        "adding new row"
      ],
      "metadata": {
        "id": "U-r7NrUKBEnK"
      }
    },
    {
      "cell_type": "code",
      "source": [
        "original = np.array([[1,2],[3,4]])\n",
        "new = np.array([[5,6]])\n",
        "with_new_row = np.vstack((original, new)) # vstack adds a new row\n",
        "\n",
        "print(\"the original array is : \\n\", original)\n",
        "print(\"the modified array with new row is : \\n\", with_new_row)"
      ],
      "metadata": {
        "colab": {
          "base_uri": "https://localhost:8080/"
        },
        "id": "VBWu0-bk-Qat",
        "outputId": "b0d781e6-90c7-403d-bc83-148f201e8c4a"
      },
      "execution_count": 27,
      "outputs": [
        {
          "output_type": "stream",
          "name": "stdout",
          "text": [
            "the original array is : \n",
            " [[1 2]\n",
            " [3 4]]\n",
            "the modified array with new row is : \n",
            " [[1 2]\n",
            " [3 4]\n",
            " [5 6]]\n"
          ]
        }
      ]
    },
    {
      "cell_type": "markdown",
      "source": [
        "adding new column"
      ],
      "metadata": {
        "id": "08hZG3oDBGFI"
      }
    },
    {
      "cell_type": "code",
      "source": [
        "original = np.array([[1,2],[3,4]])\n",
        "new_col = np.array([[5],[6]])\n",
        "with_new_col = np.hstack((original, new_col))\n",
        "\n",
        "print(\"the original array is : \\n\", original)\n",
        "print(\"the modified array with new columnn is : \\n\", with_new_col)"
      ],
      "metadata": {
        "colab": {
          "base_uri": "https://localhost:8080/"
        },
        "id": "8Bc99l6Q_gtV",
        "outputId": "eba69222-1026-4d53-b1cb-3307a8e9f1b5"
      },
      "execution_count": 28,
      "outputs": [
        {
          "output_type": "stream",
          "name": "stdout",
          "text": [
            "the original array is : \n",
            " [[1 2]\n",
            " [3 4]]\n",
            "the modified array with new columnn is : \n",
            " [[1 2 5]\n",
            " [3 4 6]]\n"
          ]
        }
      ]
    },
    {
      "cell_type": "markdown",
      "source": [
        "deleting an element"
      ],
      "metadata": {
        "id": "JlGsjOfGBCJj"
      }
    },
    {
      "cell_type": "code",
      "source": [
        "arr = np.array([1,2,3,4,5,6,7,8,9])\n",
        "modified_array = np.delete(arr, 2)\n",
        "print(f\"Array before deletion is {arr}\")\n",
        "print(f\"Array after deletion is {modified_array}\")"
      ],
      "metadata": {
        "colab": {
          "base_uri": "https://localhost:8080/"
        },
        "id": "UCw23ekjAlWi",
        "outputId": "d180d914-45d4-4e4f-9982-e0d648e78b58"
      },
      "execution_count": 29,
      "outputs": [
        {
          "output_type": "stream",
          "name": "stdout",
          "text": [
            "Array before deletion is [1 2 3 4 5 6 7 8 9]\n",
            "Array after deletion is [1 2 4 5 6 7 8 9]\n"
          ]
        }
      ]
    },
    {
      "cell_type": "code",
      "source": [
        "import matplotlib.pyplot as plt"
      ],
      "metadata": {
        "id": "QtDlILY-Bckw"
      },
      "execution_count": 30,
      "outputs": []
    },
    {
      "cell_type": "code",
      "source": [
        "# data stc=ructure [restaurant_id, 2021, 2022, 2023, 2024]\n",
        "\n",
        "sales_data = np.array([\n",
        "    [1, 15000, 18000, 22000, 25000],  #Restautant 1\n",
        "    [2, 12000, 14000, 16000, 19000],  #Restautant 2\n",
        "    [3, 20000, 23000, 26000, 30000],  #Restautant 3\n",
        "    [4, 18000, 21000, 24000, 27000],  #Restautant 4\n",
        "    [5, 16000, 18500, 20500, 23000]   #Restautant 5\n",
        "])"
      ],
      "metadata": {
        "id": "-zbqtY3yvN5z"
      },
      "execution_count": 31,
      "outputs": []
    },
    {
      "cell_type": "code",
      "source": [
        "print(\"Shape of data\",sales_data.shape)"
      ],
      "metadata": {
        "colab": {
          "base_uri": "https://localhost:8080/"
        },
        "id": "skOfK9aN24oS",
        "outputId": "f0d9d8af-9cdb-4410-fcd7-856c1820690b"
      },
      "execution_count": 32,
      "outputs": [
        {
          "output_type": "stream",
          "name": "stdout",
          "text": [
            "Shape of data (5, 5)\n"
          ]
        }
      ]
    },
    {
      "cell_type": "code",
      "source": [
        "print(\"Sales data for first three restaurants \\n\",sales_data[0:3])"
      ],
      "metadata": {
        "colab": {
          "base_uri": "https://localhost:8080/"
        },
        "id": "lZd1pYPN3t5C",
        "outputId": "f839275d-862b-4a36-cc15-b9133e432861"
      },
      "execution_count": 33,
      "outputs": [
        {
          "output_type": "stream",
          "name": "stdout",
          "text": [
            "Sales data for first three restaurants \n",
            " [[    1 15000 18000 22000 25000]\n",
            " [    2 12000 14000 16000 19000]\n",
            " [    3 20000 23000 26000 30000]]\n"
          ]
        }
      ]
    },
    {
      "cell_type": "code",
      "source": [
        "print(sales_data[:,1:]) #this will print all the sales data without the id"
      ],
      "metadata": {
        "colab": {
          "base_uri": "https://localhost:8080/"
        },
        "id": "eQOc8x0j4KC1",
        "outputId": "85da3513-81d6-4c56-c6a5-37deb351e4fb"
      },
      "execution_count": 34,
      "outputs": [
        {
          "output_type": "stream",
          "name": "stdout",
          "text": [
            "[[15000 18000 22000 25000]\n",
            " [12000 14000 16000 19000]\n",
            " [20000 23000 26000 30000]\n",
            " [18000 21000 24000 27000]\n",
            " [16000 18500 20500 23000]]\n"
          ]
        }
      ]
    },
    {
      "cell_type": "code",
      "source": [
        "print(np.sum(sales_data, axis=0))"
      ],
      "metadata": {
        "colab": {
          "base_uri": "https://localhost:8080/"
        },
        "id": "Eyz8_ala4-hx",
        "outputId": "d4b25930-115d-443f-9ed8-47e627bfb3b4"
      },
      "execution_count": 35,
      "outputs": [
        {
          "output_type": "stream",
          "name": "stdout",
          "text": [
            "[    15  81000  94500 108500 124000]\n"
          ]
        }
      ]
    },
    {
      "cell_type": "code",
      "source": [
        "print(\"year wise total sales\")\n",
        "print(np.sum(sales_data[:,1:], axis=0))"
      ],
      "metadata": {
        "colab": {
          "base_uri": "https://localhost:8080/"
        },
        "id": "oZL39vTs58QO",
        "outputId": "48b36e52-f5c0-466a-dd67-6d649f246ed3"
      },
      "execution_count": 36,
      "outputs": [
        {
          "output_type": "stream",
          "name": "stdout",
          "text": [
            "year wise total sales\n",
            "[ 81000  94500 108500 124000]\n"
          ]
        }
      ]
    },
    {
      "cell_type": "code",
      "source": [
        "print(np.min(sales_data[:,1:], axis=0)) #prints the minimum sales per restaurant"
      ],
      "metadata": {
        "colab": {
          "base_uri": "https://localhost:8080/"
        },
        "id": "2szKFlDb6_bg",
        "outputId": "327a82eb-1711-4b67-fedb-dab1907cfb6c"
      },
      "execution_count": 37,
      "outputs": [
        {
          "output_type": "stream",
          "name": "stdout",
          "text": [
            "[12000 14000 16000 19000]\n"
          ]
        }
      ]
    },
    {
      "cell_type": "code",
      "source": [
        "max_sales = np.max(sales_data[:,1:], axis=0) # maximum sales per year\n",
        "print(max_sales)"
      ],
      "metadata": {
        "colab": {
          "base_uri": "https://localhost:8080/"
        },
        "id": "Fz9uAbeG8xGE",
        "outputId": "fcac946f-2ee3-4834-8a15-ba1ad81a42c9"
      },
      "execution_count": 38,
      "outputs": [
        {
          "output_type": "stream",
          "name": "stdout",
          "text": [
            "[20000 23000 26000 30000]\n"
          ]
        }
      ]
    },
    {
      "cell_type": "code",
      "source": [
        "avg_sales = np.mean(sales_data[:,1:], axis=1) #average sales\n",
        "print(avg_sales)"
      ],
      "metadata": {
        "colab": {
          "base_uri": "https://localhost:8080/"
        },
        "id": "_eJAW4fc-YDr",
        "outputId": "fe0593e7-cfb5-45b3-9f6a-af41294f2e87"
      },
      "execution_count": 39,
      "outputs": [
        {
          "output_type": "stream",
          "name": "stdout",
          "text": [
            "[20000. 15250. 24750. 22500. 19500.]\n"
          ]
        }
      ]
    },
    {
      "cell_type": "code",
      "source": [
        "cummulative_sales = np.cumsum(sales_data[:,1:], axis=1) # cummulative sales\n",
        "print(cummulative_sales)"
      ],
      "metadata": {
        "colab": {
          "base_uri": "https://localhost:8080/"
        },
        "id": "gPSpaQOI_nPZ",
        "outputId": "e4368e4b-ca75-4a4f-cebd-2ee51b060f53"
      },
      "execution_count": 40,
      "outputs": [
        {
          "output_type": "stream",
          "name": "stdout",
          "text": [
            "[[15000 33000 55000 80000]\n",
            " [12000 26000 42000 61000]\n",
            " [20000 43000 69000 99000]\n",
            " [18000 39000 63000 90000]\n",
            " [16000 34500 55000 78000]]\n"
          ]
        }
      ]
    },
    {
      "cell_type": "code",
      "source": [
        "monthly_avg = sales_data[:,1:] / 12 # this operation is called broadcasting\n",
        "print(monthly_avg)"
      ],
      "metadata": {
        "colab": {
          "base_uri": "https://localhost:8080/"
        },
        "id": "3YKiRqmdJcoO",
        "outputId": "24646dcb-5053-427a-81e1-c317f6aef03a"
      },
      "execution_count": 41,
      "outputs": [
        {
          "output_type": "stream",
          "name": "stdout",
          "text": [
            "[[1250.         1500.         1833.33333333 2083.33333333]\n",
            " [1000.         1166.66666667 1333.33333333 1583.33333333]\n",
            " [1666.66666667 1916.66666667 2166.66666667 2500.        ]\n",
            " [1500.         1750.         2000.         2250.        ]\n",
            " [1333.33333333 1541.66666667 1708.33333333 1916.66666667]]\n"
          ]
        }
      ]
    },
    {
      "cell_type": "markdown",
      "source": [
        "Broadcasting in NumPy is a mechanism that allows NumPy to work with arrays of different shapes when performing arithmetic operations. It automatically aligns arrays and performs operations element-wise, even if their dimensions don't match exactly."
      ],
      "metadata": {
        "id": "H6s9GwIaLKF5"
      }
    },
    {
      "cell_type": "code",
      "source": [
        "plt.figure(figsize=(10,6))\n",
        "plt.title(\"Average cummulative sales across all restaurants\")\n",
        "plt.plot(np.mean(cummulative_sales, axis=0))\n",
        "plt.grid(True)\n",
        "plt.xlabel(\"Years\")\n",
        "plt.ylabel(\"Sales\")\n",
        "plt.show()"
      ],
      "metadata": {
        "colab": {
          "base_uri": "https://localhost:8080/",
          "height": 564
        },
        "id": "Mpo5JSjWAJru",
        "outputId": "f2b39bb4-0069-4db9-b53b-59248ac12289"
      },
      "execution_count": 42,
      "outputs": [
        {
          "output_type": "display_data",
          "data": {
            "text/plain": [
              "<Figure size 1000x600 with 1 Axes>"
            ],
            "image/png": "[encoded data removed]"
          },
          "metadata": {}
        }
      ]
    },
    {
      "cell_type": "code",
      "source": [
        "vector1 = np.array([1,2,3,4,5])\n",
        "vector2 = np.array([6,7,8,9,10])\n",
        "\n",
        "print(\"Vector addition\", vector1 + vector2)\n",
        "print(\"Vector product\", vector1 * vector2)"
      ],
      "metadata": {
        "colab": {
          "base_uri": "https://localhost:8080/"
        },
        "id": "DA3qCuh6E708",
        "outputId": "3cda53b8-9ddb-45d3-8728-5b5490aa7dfa"
      },
      "execution_count": 43,
      "outputs": [
        {
          "output_type": "stream",
          "name": "stdout",
          "text": [
            "Vector addition [ 7  9 11 13 15]\n",
            "Vector product [ 6 14 24 36 50]\n"
          ]
        }
      ]
    },
    {
      "cell_type": "code",
      "source": [
        "print(\"Dot product\", np.dot(vector1, vector2))"
      ],
      "metadata": {
        "colab": {
          "base_uri": "https://localhost:8080/"
        },
        "id": "C9go9aAgGnBH",
        "outputId": "1c5b5092-a67d-44fb-aa0f-ac0823cf688f"
      },
      "execution_count": 44,
      "outputs": [
        {
          "output_type": "stream",
          "name": "stdout",
          "text": [
            "Dot product 130\n"
          ]
        }
      ]
    },
    {
      "cell_type": "markdown",
      "source": [
        "# using vectorized operations"
      ],
      "metadata": {
        "id": "KUFDTr7-JeLQ"
      }
    },
    {
      "cell_type": "code",
      "source": [
        "restautant_types = np.array([\"Chinese\",\"MExican\",\"Lebanese\",\"Thai\",\"Italian\",\"French\",\"Afgani\",\"Indian\",\"American\"])\n",
        "vectorized_operation = np.vectorize(str.upper)\n",
        "\n",
        "print(vectorized_operation(restautant_types))"
      ],
      "metadata": {
        "colab": {
          "base_uri": "https://localhost:8080/"
        },
        "id": "qYv7uJo8G2sw",
        "outputId": "b8afc00a-ebef-4cbb-856d-e6e73d1e7d0a"
      },
      "execution_count": 45,
      "outputs": [
        {
          "output_type": "stream",
          "name": "stdout",
          "text": [
            "['CHINESE' 'MEXICAN' 'LEBANESE' 'THAI' 'ITALIAN' 'FRENCH' 'AFGANI'\n",
            " 'INDIAN' 'AMERICAN']\n"
          ]
        }
      ]
    },
    {
      "cell_type": "markdown",
      "source": [
        "## saving and loading the arrays"
      ],
      "metadata": {
        "id": "ZxGwdysfMyGH"
      }
    },
    {
      "cell_type": "code",
      "source": [
        "array1 = np.array([1,2,3,4,5,6,7,8,9,10])\n",
        "np.save(\"array1.npy\",array1)"
      ],
      "metadata": {
        "id": "0RVhjLKSKEkA"
      },
      "execution_count": 46,
      "outputs": []
    },
    {
      "cell_type": "code",
      "source": [
        "loading_the_array = np.load('array1.npy')"
      ],
      "metadata": {
        "id": "nCPVMDFdMicB"
      },
      "execution_count": 47,
      "outputs": []
    },
    {
      "cell_type": "code",
      "source": [],
      "metadata": {
        "id": "Y-DtU3KWMrKB"
      },
      "execution_count": 47,
      "outputs": []
    }
  ]
}